{
 "cells": [
  {
   "cell_type": "code",
   "execution_count": null,
   "id": "a0765785",
   "metadata": {},
   "outputs": [],
   "source": [
    "import numpy as np\n",
    "import pandas as pd\n",
    "import os\n",
    "\n",
    "from tqdm import tqdm"
   ]
  },
  {
   "cell_type": "markdown",
   "id": "cc6a4bac",
   "metadata": {},
   "source": [
    "### Set file path - assumes a subfolder e.g. citing_sentences/pieces/[0-9]{3}"
   ]
  },
  {
   "cell_type": "code",
   "execution_count": null,
   "id": "e01cd155",
   "metadata": {},
   "outputs": [],
   "source": [
    "#os.environ['citing_sentences'] = '/data3/jsalt2023/semantic_scholar/releases/2022-12-02/database/citations/citing_sentences/pieces/000'\n",
    "\n"
   ]
  },
  {
   "cell_type": "markdown",
   "id": "5c35d618",
   "metadata": {},
   "source": [
    "### Helper functions"
   ]
  },
  {
   "cell_type": "code",
   "execution_count": null,
   "id": "a945803d",
   "metadata": {},
   "outputs": [],
   "source": [
    "def get_embedding_list(path):\n",
    "    dir_list = os.listdir(path)\n",
    "    embedding_list = [e.split('.')[0] for e in dir_list if e.split('.')[0]+'.kwc.edges.f' in dir_list\n",
    "                                                        and e.split('.')[0]+'.kwc.nodes.i' in dir_list]\n",
    "    embedding_list = list(sorted(set(embedding_list)))\n",
    "    return(embedding_list)\n",
    "\n",
    "\n",
    "def citation_embedding_from_dir(fn, K):\n",
    "    fn_len = os.path.getsize(fn)\n",
    "    return np.memmap(fn, dtype=np.float32, shape=(int(fn_len/(4*K)), K), mode='r')"
   ]
  },
  {
   "cell_type": "code",
   "execution_count": null,
   "id": "47bd27bb",
   "metadata": {},
   "outputs": [],
   "source": [
    "def load_citing_sentence_maps(path):\n",
    "    embeding_list = get_embedding_list(path)\n",
    "    memory_map_list = []\n",
    "    for embeddings_id in tqdm(embeding_list):\n",
    "        nmap = np.memmap(os.path.join(path, embeddings_id+'.kwc.nodes.i'), \n",
    "                    dtype=np.int32, shape=(int(8000)), mode='r')\n",
    "        cembs = citation_embedding_from_dir(os.path.join(path, embeddings_id+'.kwc.edges.f'), \n",
    "                                           768)\n",
    "        \n",
    "        #assert nmap.shape[0] == cembs.shape[0], f'error loading {os.path.join(path, embeddings_id)}'\n",
    "        memory_map_list.append((nmap, cembs))\n",
    "    return(memory_map_list)"
   ]
  },
  {
   "cell_type": "code",
   "execution_count": null,
   "id": "c53f858d",
   "metadata": {},
   "outputs": [],
   "source": [
    "citing_sentences = os.environ.get('citing_sentences')"
   ]
  },
  {
   "cell_type": "code",
   "execution_count": null,
   "id": "2cdafd92",
   "metadata": {},
   "outputs": [],
   "source": [
    "mmaps = load_citing_sentence_maps(citing_sentences)"
   ]
  },
  {
   "cell_type": "markdown",
   "id": "ca6c9184",
   "metadata": {},
   "source": [
    "### Define iterator for mmaps chunks"
   ]
  },
  {
   "cell_type": "code",
   "execution_count": null,
   "id": "c2f1f58c",
   "metadata": {},
   "outputs": [],
   "source": [
    "def chunks(specter_citing_sentences, n):\n",
    "    offset = 0\n",
    "    \n",
    "    for i in range(len(specter_citing_sentences)):\n",
    "        for j in range(0, specter_citing_sentences[i][0].shape[0], n):\n",
    "            \n",
    "            this_array_yeild_nmap = specter_citing_sentences[i][0][offset+j:offset+j + n]\n",
    "            this_array_yeild_cembs = specter_citing_sentences[i][1][offset+j:offset+j + n]\n",
    "            \n",
    "            if this_array_yeild_nmap.shape[0] < n and i < len(specter_citing_sentences) - 1:\n",
    "                \n",
    "                \n",
    "                next_array_yeild_nmap = specter_citing_sentences[i+1][0][0:n-this_array_yeild_nmap.shape[0]]\n",
    "                next_array_yeild_cembs = specter_citing_sentences[i+1][1][0:n-this_array_yeild_cembs.shape[0]]\n",
    "                \n",
    "                offset = n-next_array_yeild_nmap.shape[0]\n",
    "                yield (np.concatenate((this_array_yeild_nmap, next_array_yeild_nmap), axis=0),\n",
    "                       np.concatenate((this_array_yeild_cembs, next_array_yeild_cembs), axis=0)) \n",
    "                \n",
    "                \n",
    "            else:\n",
    "                offset = 0\n",
    "                yield (this_array_yeild_nmap,  this_array_yeild_cembs)"
   ]
  },
  {
   "cell_type": "code",
   "execution_count": null,
   "id": "f44dbfda",
   "metadata": {},
   "outputs": [],
   "source": [
    "iterator = chunks(mmaps, 1024)"
   ]
  },
  {
   "cell_type": "code",
   "execution_count": null,
   "id": "2288af02",
   "metadata": {},
   "outputs": [],
   "source": [
    "next(iterator)"
   ]
  },
  {
   "cell_type": "code",
   "execution_count": null,
   "id": "f4a91f2b",
   "metadata": {},
   "outputs": [],
   "source": [
    "## Load text, not needed\n",
    "text_path = os.environ.get('embedding_text_path')\n",
    "f = open(embedding_text_path, 'r', encoding='utf8')\n",
    "rl = f.readlines()\n",
    "lines_to_semscho_corpusids = {}\n",
    "ids = []\n",
    "texts = []\n",
    "for l in  rl:\n",
    "    ids.append(l.split('\\t')[0])\n",
    "    texts.append(l.split('\\t')[1])\n",
    "df = pd.DataFrame(data=zip(ids, texts))\n",
    "    "
   ]
  },
  {
   "cell_type": "code",
   "execution_count": null,
   "id": "6b58a2c8",
   "metadata": {},
   "outputs": [],
   "source": []
  }
 ],
 "metadata": {
  "kernelspec": {
   "display_name": "Python 3 (ipykernel)",
   "language": "python",
   "name": "python3"
  },
  "language_info": {
   "codemirror_mode": {
    "name": "ipython",
    "version": 3
   },
   "file_extension": ".py",
   "mimetype": "text/x-python",
   "name": "python",
   "nbconvert_exporter": "python",
   "pygments_lexer": "ipython3",
   "version": "3.9.16"
  }
 },
 "nbformat": 4,
 "nbformat_minor": 5
}
